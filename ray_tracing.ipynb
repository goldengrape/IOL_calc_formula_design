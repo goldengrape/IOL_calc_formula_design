{
 "cells": [
  {
   "cell_type": "markdown",
   "metadata": {},
   "source": [
    "# 光线传输矩阵\n",
    "\n",
    "光线传输矩阵又称做[ABCD矩阵](https://en.wikipedia.org/wiki/Ray_transfer_matrix_analysis) 用来描述近轴光线的传播过程. \n",
    "\n",
    "![](https://upload.wikimedia.org/wikipedia/commons/thumb/5/5e/RayTransferMatrixDefinitions.svg/600px-RayTransferMatrixDefinitions.svg.png)\n",
    "\n",
    "光线穿过一个光学系统的过程可以用一个2x2的矩阵来表示, 如果: \n",
    "* 入射光线距离光轴是x1, 角度是 θ1,  \n",
    "* 出射光线距离光轴是x2, 角度是 θ2,\n",
    "\n",
    "那么: \n",
    "$$\n",
    "\\begin{bmatrix}x_2\\\\ \\theta_2 \\end{bmatrix} = \\begin{bmatrix}A & B \\\\C & D \\end{bmatrix} \\begin{bmatrix}x_1\\\\ \\theta_1 \\end{bmatrix}\n",
    "$$\n",
    "\n",
    "对于不同的光学元件, ABCD的取值不同. "
   ]
  },
  {
   "cell_type": "markdown",
   "metadata": {},
   "source": [
    "# ABCD Matrix\n",
    "\n",
    "内置上常用的参数字典, 其实最常用的也就是在自由空间内传播, 和在球面上折射, 而这两者可以合并成在球面上折射然后再传播一段距离. \n",
    "\n",
    "* 在自由空间传播距离为d的矩阵是: \n",
    "$$\n",
    "free\\space space\\space matrix=\\begin{bmatrix} 1 & d \\\\ 0 & 1 \\end{bmatrix}\n",
    "$$\n",
    "* 在球面上折射的矩阵, 如果从n1折射率介质经过半径为R的球面, 折射到n2折射率介质: \n",
    "$$\n",
    "curved\\space interface\\space matrix=\\begin{bmatrix} 1 & 0 \\\\ \\frac{(n_1-n_2)}{R n_2} & \\frac{n_1}{n_2} \\end{bmatrix}\n",
    "$$\n",
    "* 两者合并是相乘的关系, 注意乘法的顺序, 从右至左应当先经过曲面, 再自由传播: \n",
    "\n",
    "$$\n",
    "pass\\space curved\\space interface\\space  matrix=\n",
    "\\begin{bmatrix} 1 & d \\\\ 0 & 1 \\end{bmatrix}\n",
    "\\begin{bmatrix} 1 & 0 \\\\ \\frac{(n_1-n_2)}{R n_2} & \\frac{n_1}{n_2} \\end{bmatrix}\n",
    "$$\n",
    "\n"
   ]
  },
  {
   "cell_type": "markdown",
   "metadata": {},
   "source": [
    "## 薄透镜推导\n",
    "\n",
    "从$n_1$介质, 经过半径为$R_1$的球面进入$n_2$介质, 再经过忽略不计的厚度后, 从$n_2$介质经过半径为$R_2$的球面, 进入到$n_1$介质 \n",
    "\n",
    "$$\n",
    "\\begin{bmatrix} 1 & 0 \\\\ \\frac{(n_2-n_1)}{R_2 n_1} & \\frac{n_2}{n_1} \\end{bmatrix}\n",
    "\\begin{bmatrix} 1 & 0 \\\\ \\frac{(n_1-n_2)}{R_1 n_2} & \\frac{n_1}{n_2} \\end{bmatrix}\n",
    "=\n",
    "\\begin{bmatrix}  {1} & {0} \\\\ {-\\frac{n_{2}-n_{1}}{n_{1}}\\left(\\frac{1}{R_{1}}-\\frac{1}{R_{2}}\\right)} & {1}\\end{bmatrix}\n",
    "$$\n",
    "\n",
    "定义焦距$f$, 使$f$满足\n",
    "$$\n",
    "\\frac{1}{f}=\n",
    "{\\frac{n_{2}-n_{1}}{n_{1}}\\left(\\frac{1}{R_{1}}-\\frac{1}{R_{2}}\\right)}\n",
    "$$\n",
    "\n",
    "定义屈光度$P=\\frac{1}{f}$ [此处存疑], 可能应当是$P=\\frac{n}{f}$, n为两侧介质\n"
   ]
  },
  {
   "cell_type": "markdown",
   "metadata": {},
   "source": [
    "$$\n",
    "thin\\space lens\\space matrix=\n",
    "\\begin{bmatrix}  {1} & {0} \\\\ {-\\frac{1}{f}} & {1}\\end{bmatrix}\n",
    "=\n",
    "\\begin{bmatrix}  {1} & {0} \\\\ {-P} & {1}\\end{bmatrix}\n",
    "$$ "
   ]
  },
  {
   "cell_type": "markdown",
   "metadata": {},
   "source": [
    "# 眼球的光线传输矩阵\n",
    "\n",
    "光线依次通过:\n",
    "\n",
    "* 8 眼镜(薄透镜): 眼镜度数=R_t=目标设定值\n",
    "$$\n",
    "\\begin{bmatrix}  {1} & {0} \\\\ {-R_t} & {1}\\end{bmatrix} % 眼镜(薄透镜)\n",
    "$$\n",
    "* 7 眼镜到角膜前表面的自由空间(自由空间): 眼镜顶点距=$V_d=12mm$\n",
    "$$\n",
    "\\begin{bmatrix} 1 & V_d \\\\ 0 & 1 \\end{bmatrix} % 眼镜到角膜前表面的自由空间(自由空间)\n",
    "$$\n",
    "* 6 角膜前表面(球面上的折射): 空气折射率$n_{air}=1.00$, 角膜折射率=$n_{c}=1.376$, 角膜前表面曲率半径=$R_a$=测量值\n",
    "$$\n",
    "\\begin{bmatrix} 1 & 0 \\\\ \\frac{(n_{air}-n_{c})}{R_{a} n_{c}} & \\frac{n_{air}}{n_{c}} \\end{bmatrix} %角膜前表面(球面上的折射)\n",
    "$$\n",
    "* 5 角膜厚度(自由空间传播): 角膜厚度$T_c=0.5mm$\n",
    "$$\n",
    "\\begin{bmatrix} 1 & T_c \\\\ 0 & 1 \\end{bmatrix} %角膜厚度(自由空间传播)\n",
    "$$\n",
    "* 4 角膜后表面(球面上的折射): 角膜折射率=$n_{c}=1.376$, 房水折射率=$n_{h}$, 角膜后表面曲率半径=$R_p$=测量值\n",
    "$$\n",
    "\\begin{bmatrix} 1 & 0 \\\\ \\frac{(n_{c}-n_{h})}{R_{p} n_{h}} & \\frac{n_{c}}{n_{h}} \\end{bmatrix} % 角膜后表面(球面上的折射)\n",
    "$$\n",
    "* 3 前房(自由空间传播): 前房深度定义为角膜后表面到人工晶体前表面=$ELP$=需要估计的值\n",
    "$$\n",
    "\\begin{bmatrix} 1 & ELP \\\\ 0 & 1 \\end{bmatrix} %前房(自由空间传播)\n",
    "$$ \n",
    "* 2 人工晶体(薄透镜)\n",
    "$$\n",
    "\\begin{bmatrix}  {1} & {0} \\\\ {-IOL} & {1}\\end{bmatrix} %人工晶体(薄透镜)\n",
    "$$\n",
    "* 1 人工晶体后到视网膜(自由空间传播): 眼轴长=AL\n",
    "$$\n",
    "\\begin{bmatrix} 1 & AL-T_c-ELP \\\\ 0 & 1 \\end{bmatrix} %人工晶体后到视网膜(自由空间传播)\n",
    "$$\n",
    "\n",
    "注意相乘时是从右至左连乘"
   ]
  },
  {
   "cell_type": "markdown",
   "metadata": {},
   "source": [
    "$$\n",
    "eye\\space matrix=\n",
    "\\begin{bmatrix} 1 & AL-T_c-ELP \\\\ 0 & 1 \\end{bmatrix}                                              %人工晶体后到视网膜(自由空间传播)\n",
    "\\begin{bmatrix}  {1} & {0} \\\\ {-IOL} & {1}\\end{bmatrix}                                            %人工晶体(薄透镜)\n",
    "\\begin{bmatrix} 1 & ELP \\\\ 0 & 1 \\end{bmatrix}                                                     %前房(自由空间传播)\n",
    "\\begin{bmatrix} 1 & 0 \\\\ \\frac{(n_{c}-n_{h})}{R_{p} n_{h}} & \\frac{n_{c}}{n_{h}} \\end{bmatrix}     %角膜后表面(球面上的折射)\n",
    "\\begin{bmatrix} 1 & T_c \\\\ 0 & 1 \\end{bmatrix}                                                     %角膜厚度(自由空间传播)\n",
    "\\begin{bmatrix} 1 & 0 \\\\ \\frac{(n_{air}-n_{c})}{R_{a} n_{c}} & \\frac{n_{air}}{n_{c}} \\end{bmatrix} %角膜前表面(球面上的折射)\n",
    "\\begin{bmatrix} 1 & V_d \\\\ 0 & 1 \\end{bmatrix}                                                     %眼镜到角膜前表面的自由空间(自由空间)\n",
    "\\begin{bmatrix}  {1} & {0} \\\\ {-R_t} & {1}\\end{bmatrix}                                            %眼镜(薄透镜)\n",
    "$$"
   ]
  },
  {
   "cell_type": "markdown",
   "metadata": {},
   "source": [
    "## 角膜K值\n",
    "\n",
    "由于测量设备原理的限制, 很多设备是无法测量角膜后表面曲率半径R_p的, 因此将角膜前后表面合并\n",
    "\n",
    "* 6 角膜前表面(球面上的折射): 空气折射率$n_{air}=1.00$, 角膜折射率=$n_{c}=1.376$, 角膜前表面曲率半径=$R_a$=测量值\n",
    "$$\n",
    "\\begin{bmatrix} 1 & 0 \\\\ \\frac{(n_{air}-n_{c})}{R_{a} n_{c}} & \\frac{n_{air}}{n_{c}} \\end{bmatrix}\n",
    "$$\n",
    "* 5 角膜厚度(自由空间传播): 角膜厚度$T_c=0.5mm$\n",
    "$$\n",
    "\\begin{bmatrix} 1 & T_c \\\\ 0 & 1 \\end{bmatrix}\n",
    "$$\n",
    "* 4 角膜后表面(球面上的折射): 角膜折射率=$n_{c}=1.376$, 房水折射率=$n_{h}$, 角膜后表面曲率半径=$R_p$=测量值\n",
    "$$\n",
    "\\begin{bmatrix} 1 & 0 \\\\ \\frac{(n_{c}-n_{h})}{R_{p} n_{h}} & \\frac{n_{c}}{n_{h}} \\end{bmatrix}\n",
    "$$\n",
    "\n",
    "合并后是一个单一的球面, 其曲率半径仍是角膜前表面的曲率半径$R_a$, 折射率$n_k=1.3375$\n",
    "$$\n",
    "\\begin{bmatrix} 1 & 0 \\\\ \\frac{(n_{air}-n_{k})}{R_{a} n_{k}} & \\frac{n_{air}}{n_{k}} \\end{bmatrix}\n",
    "$$\n",
    "其中, 又把$\\frac{n_k-n_{air}}{R_a}=K$\n",
    "于是有\n",
    "$$\n",
    "\\begin{bmatrix} 1 & 0 \\\\ - \\frac{K}{n_{k}} & \\frac{n_{air}}{n_{k}} \\end{bmatrix}                   %K值表示的角膜\n",
    "$$\n"
   ]
  },
  {
   "cell_type": "markdown",
   "metadata": {},
   "source": [
    "那么使用角膜K值来定义的, \n",
    "\n",
    "$$\n",
    "eye\\space matrix\\space by\\space K=\n",
    "\\begin{bmatrix} 1 & AL-T_c-ELP \\\\ 0 & 1 \\end{bmatrix}                                              %人工晶体后到视网膜(自由空间传播)\n",
    "\\begin{bmatrix}  {1} & {0} \\\\ {-IOL} & {1}\\end{bmatrix}                                            %人工晶体(薄透镜)\n",
    "\\begin{bmatrix} 1 & ELP \\\\ 0 & 1 \\end{bmatrix}                                                     %前房(自由空间传播)\n",
    "\\begin{bmatrix} 1 & 0 \\\\ - \\frac{K}{n_{k}} & \\frac{n_{air}}{n_{k}} \\end{bmatrix}                   %K值表示的角膜\n",
    "\\begin{bmatrix} 1 & V_d \\\\ 0 & 1 \\end{bmatrix}                                                     %眼镜到角膜前表面的自由空间(自由空间)\n",
    "\\begin{bmatrix}  {1} & {0} \\\\ {-R_t} & {1}\\end{bmatrix}                                            %眼镜(薄透镜)\n",
    "$$\n",
    "\n",
    "其中需要令T_c=0"
   ]
  },
  {
   "cell_type": "markdown",
   "metadata": {},
   "source": [
    "## 平行光聚焦于视网膜\n",
    "\n",
    "就是从高度为任意x, 角度为0入射到眼镜上的光线, 最终到达视网膜时, 高度=0, 角度无所谓.\n",
    "$$\n",
    "\\begin{bmatrix} 0 \\\\ \\theta \\end{bmatrix} = \n",
    "eye\\space matrix \n",
    "\\begin{bmatrix}x \\\\ 0 \\end{bmatrix}\n",
    "$$\n",
    "\n",
    "如果eye matrix也写成$2 \\times 2$的矩阵\n",
    "$$\n",
    "eye\\space matrix = \\begin{bmatrix} eye_{0,0} & eye_{0,1} \\\\ eye_{1,0} & eye_{1,1} \\end{bmatrix}                                              %人工晶体后到视网膜(自由空间传播)\n",
    "$$\n",
    "\n",
    "那么对于上述方程, 当$eye_{0,0}==0$时 可以求解出平行光聚焦到视网膜上的结果, \n",
    "\n",
    "* 当已知目标度数, 则IOL为未知数进行求解. 这是通常计算人工晶体度数的过程.\n",
    "* 当已知植入的IOL, 则使用R_t作为未知数进行求解. 这是对公式中的常数参数进行估计的过程. \n",
    "\n",
    "注意, 在手术之前, 对于人工晶体的位置ELP, 实际上是不知道的, 只能通过各种已知的参数进行估计. "
   ]
  },
  {
   "cell_type": "markdown",
   "metadata": {},
   "source": [
    "\n",
    "代入前面eye matrix\n",
    "\n",
    "$$\n",
    "\\begin{bmatrix} 0 \\\\ \\theta \\end{bmatrix} = \n",
    "\\begin{bmatrix} 1 & AL-T_c-ELP \\\\ 0 & 1 \\end{bmatrix}\n",
    "\\begin{bmatrix}  {1} & {0} \\\\ {-IOL} & {1}\\end{bmatrix}\n",
    "\\begin{bmatrix} 1 & ELP \\\\ 0 & 1 \\end{bmatrix}\n",
    "\\begin{bmatrix} 1 & 0 \\\\ \\frac{(n_{c}-n_{h})}{R_{p} n_{h}} & \\frac{n_{c}}{n_{h}} \\end{bmatrix}\n",
    "\\begin{bmatrix} 1 & T_c \\\\ 0 & 1 \\end{bmatrix}\n",
    "\\begin{bmatrix} 1 & 0 \\\\ \\frac{(n_{air}-n_{c})}{R_{a} n_{c}} & \\frac{n_{air}}{n_{c}} \\end{bmatrix}\n",
    "\\begin{bmatrix} 1 & V_d \\\\ 0 & 1 \\end{bmatrix}\n",
    "\\begin{bmatrix}  {1} & {0} \\\\ {-R_t} & {1}\\end{bmatrix}\n",
    "\\begin{bmatrix}x \\\\ 0 \\end{bmatrix}\n",
    "$$\n",
    "\n",
    "或者使用角膜K值\n",
    "\n",
    "$$\n",
    "\\begin{bmatrix} 0 \\\\ \\theta \\end{bmatrix} = \n",
    "\\begin{bmatrix} 1 & AL-T_c-ELP \\\\ 0 & 1 \\end{bmatrix}                                              %人工晶体后到视网膜(自由空间传播)\n",
    "\\begin{bmatrix}  {1} & {0} \\\\ {-IOL} & {1}\\end{bmatrix}                                            %人工晶体(薄透镜)\n",
    "\\begin{bmatrix} 1 & ELP \\\\ 0 & 1 \\end{bmatrix}                                                     %前房(自由空间传播)\n",
    "\\begin{bmatrix} 1 & 0 \\\\ - \\frac{K}{n_{k}} & \\frac{n_{air}}{n_{k}} \\end{bmatrix}                   %K值表示的角膜\n",
    "\\begin{bmatrix} 1 & V_d \\\\ 0 & 1 \\end{bmatrix}                                                     %眼镜到角膜前表面的自由空间(自由空间)\n",
    "\\begin{bmatrix}  {1} & {0} \\\\ {-R_t} & {1}\\end{bmatrix}                                            %眼镜(薄透镜)\n",
    "\\begin{bmatrix}x \\\\ 0 \\end{bmatrix}\n",
    "\\\\\n",
    "T_c=0\n",
    "$$\n"
   ]
  },
  {
   "cell_type": "markdown",
   "metadata": {},
   "source": [
    "# 求解\n",
    "\n",
    "这么长的矩阵乘法, 虽然写出来容易, 但计算的时候当然要用程序"
   ]
  },
  {
   "cell_type": "markdown",
   "metadata": {},
   "source": [
    "导入SymPy符号计算库, 定义所需要的符号变量"
   ]
  },
  {
   "cell_type": "code",
   "execution_count": 1,
   "metadata": {},
   "outputs": [],
   "source": [
    "from sympy import *\n",
    "x,θ=symbols('x, θ')\n",
    "n_air, n_c,n_h,n_k =symbols('n_air,n_c,n_h,n_k')\n",
    "AL, T_c, ELP, IOL, R_a, R_p, V_d, R_t, K=symbols('AL, T_c, ELP, IOL, R_a, R_p, V_d, R_t, K')"
   ]
  },
  {
   "cell_type": "markdown",
   "metadata": {},
   "source": [
    "分别列出每一步光线传播的过程矩阵, 顺便检查"
   ]
  },
  {
   "cell_type": "code",
   "execution_count": 2,
   "metadata": {},
   "outputs": [
    {
     "data": {
      "text/latex": [
       "$\\displaystyle \\left[\\begin{matrix}1 & 0\\\\- R_{t} & 1\\end{matrix}\\right]$"
      ],
      "text/plain": [
       "Matrix([\n",
       "[   1, 0],\n",
       "[-R_t, 1]])"
      ]
     },
     "execution_count": 2,
     "metadata": {},
     "output_type": "execute_result"
    }
   ],
   "source": [
    "glass=Matrix([[1, 0], [-R_t,1]])\n",
    "glass"
   ]
  },
  {
   "cell_type": "code",
   "execution_count": 3,
   "metadata": {},
   "outputs": [
    {
     "data": {
      "text/latex": [
       "$\\displaystyle \\left[\\begin{matrix}1 & V_{d}\\\\0 & 1\\end{matrix}\\right]$"
      ],
      "text/plain": [
       "Matrix([\n",
       "[1, V_d],\n",
       "[0,   1]])"
      ]
     },
     "execution_count": 3,
     "metadata": {},
     "output_type": "execute_result"
    }
   ],
   "source": [
    "glass_to_cornea=Matrix([[1, V_d], [0,1]])\n",
    "glass_to_cornea"
   ]
  },
  {
   "cell_type": "code",
   "execution_count": 4,
   "metadata": {},
   "outputs": [
    {
     "data": {
      "text/latex": [
       "$\\displaystyle \\left[\\begin{matrix}1 & 0\\\\\\frac{n_{air} - n_{c}}{R_{a} n_{c}} & \\frac{n_{air}}{n_{c}}\\end{matrix}\\right]$"
      ],
      "text/plain": [
       "Matrix([\n",
       "[                      1,         0],\n",
       "[(n_air - n_c)/(R_a*n_c), n_air/n_c]])"
      ]
     },
     "execution_count": 4,
     "metadata": {},
     "output_type": "execute_result"
    }
   ],
   "source": [
    "cornea_anterior=Matrix([[1,0],[(n_air-n_c)/(R_a*n_c), n_air/n_c]])\n",
    "cornea_anterior"
   ]
  },
  {
   "cell_type": "code",
   "execution_count": 5,
   "metadata": {},
   "outputs": [
    {
     "data": {
      "text/latex": [
       "$\\displaystyle \\left[\\begin{matrix}1 & T_{c}\\\\0 & 1\\end{matrix}\\right]$"
      ],
      "text/plain": [
       "Matrix([\n",
       "[1, T_c],\n",
       "[0,   1]])"
      ]
     },
     "execution_count": 5,
     "metadata": {},
     "output_type": "execute_result"
    }
   ],
   "source": [
    "cornea_inside=Matrix([[1, T_c], [0,1]])\n",
    "cornea_inside"
   ]
  },
  {
   "cell_type": "code",
   "execution_count": 6,
   "metadata": {},
   "outputs": [
    {
     "data": {
      "text/latex": [
       "$\\displaystyle \\left[\\begin{matrix}1 & 0\\\\\\frac{n_{c} - n_{h}}{R_{p} n_{h}} & \\frac{n_{c}}{n_{h}}\\end{matrix}\\right]$"
      ],
      "text/plain": [
       "Matrix([\n",
       "[                    1,       0],\n",
       "[(n_c - n_h)/(R_p*n_h), n_c/n_h]])"
      ]
     },
     "execution_count": 6,
     "metadata": {},
     "output_type": "execute_result"
    }
   ],
   "source": [
    "cornea_posterior=Matrix([[1,0],[(n_c-n_h)/(R_p*n_h), n_c/n_h]])\n",
    "cornea_posterior"
   ]
  },
  {
   "cell_type": "code",
   "execution_count": 7,
   "metadata": {},
   "outputs": [
    {
     "data": {
      "text/latex": [
       "$\\displaystyle \\left[\\begin{matrix}1 & 0\\\\- \\frac{K}{n_{k}} & \\frac{n_{air}}{n_{k}}\\end{matrix}\\right]$"
      ],
      "text/plain": [
       "Matrix([\n",
       "[     1,         0],\n",
       "[-K/n_k, n_air/n_k]])"
      ]
     },
     "execution_count": 7,
     "metadata": {},
     "output_type": "execute_result"
    }
   ],
   "source": [
    "cornea_by_K=Matrix([[1,0],[-K/n_k, n_air/n_k]])\n",
    "cornea_by_K"
   ]
  },
  {
   "cell_type": "code",
   "execution_count": 8,
   "metadata": {},
   "outputs": [
    {
     "data": {
      "text/latex": [
       "$\\displaystyle \\left[\\begin{matrix}1 & ELP\\\\0 & 1\\end{matrix}\\right]$"
      ],
      "text/plain": [
       "Matrix([\n",
       "[1, ELP],\n",
       "[0,   1]])"
      ]
     },
     "execution_count": 8,
     "metadata": {},
     "output_type": "execute_result"
    }
   ],
   "source": [
    "anterior_chamber=Matrix([[1,ELP],[0,1]])\n",
    "anterior_chamber"
   ]
  },
  {
   "cell_type": "code",
   "execution_count": 9,
   "metadata": {},
   "outputs": [
    {
     "data": {
      "text/latex": [
       "$\\displaystyle \\left[\\begin{matrix}1 & 0\\\\- \\frac{IOL}{n_{h}} & 1\\end{matrix}\\right]$"
      ],
      "text/plain": [
       "Matrix([\n",
       "[       1, 0],\n",
       "[-IOL/n_h, 1]])"
      ]
     },
     "execution_count": 9,
     "metadata": {},
     "output_type": "execute_result"
    }
   ],
   "source": [
    "pass_IOL=Matrix([[1, 0], [-IOL/n_h,1]])\n",
    "pass_IOL"
   ]
  },
  {
   "cell_type": "code",
   "execution_count": 10,
   "metadata": {},
   "outputs": [
    {
     "data": {
      "text/latex": [
       "$\\displaystyle \\left[\\begin{matrix}1 & AL - ELP - T_{c}\\\\0 & 1\\end{matrix}\\right]$"
      ],
      "text/plain": [
       "Matrix([\n",
       "[1, AL - ELP - T_c],\n",
       "[0,              1]])"
      ]
     },
     "execution_count": 10,
     "metadata": {},
     "output_type": "execute_result"
    }
   ],
   "source": [
    "vitreous=Matrix([[1, AL-T_c-ELP], [0,1]])\n",
    "vitreous"
   ]
  },
  {
   "cell_type": "code",
   "execution_count": 11,
   "metadata": {},
   "outputs": [
    {
     "data": {
      "text/latex": [
       "$\\displaystyle - \\frac{IOL \\left(AL - ELP - T_{c}\\right)}{n_{h}} + 1 + \\frac{\\left(n_{c} - n_{h}\\right) \\left(AL + ELP \\left(- \\frac{IOL \\left(AL - ELP - T_{c}\\right)}{n_{h}} + 1\\right) - ELP - T_{c}\\right)}{R_{p} n_{h}} + \\frac{\\left(n_{air} - n_{c}\\right) \\left(T_{c} \\left(- \\frac{IOL \\left(AL - ELP - T_{c}\\right)}{n_{h}} + 1 + \\frac{\\left(n_{c} - n_{h}\\right) \\left(AL + ELP \\left(- \\frac{IOL \\left(AL - ELP - T_{c}\\right)}{n_{h}} + 1\\right) - ELP - T_{c}\\right)}{R_{p} n_{h}}\\right) + \\frac{n_{c} \\left(AL + ELP \\left(- \\frac{IOL \\left(AL - ELP - T_{c}\\right)}{n_{h}} + 1\\right) - ELP - T_{c}\\right)}{n_{h}}\\right)}{R_{a} n_{c}}$"
      ],
      "text/plain": [
       "-IOL*(AL - ELP - T_c)/n_h + 1 + (n_c - n_h)*(AL + ELP*(-IOL*(AL - ELP - T_c)/n_h + 1) - ELP - T_c)/(R_p*n_h) + (n_air - n_c)*(T_c*(-IOL*(AL - ELP - T_c)/n_h + 1 + (n_c - n_h)*(AL + ELP*(-IOL*(AL - ELP - T_c)/n_h + 1) - ELP - T_c)/(R_p*n_h)) + n_c*(AL + ELP*(-IOL*(AL - ELP - T_c)/n_h + 1) - ELP - T_c)/n_h)/(R_a*n_c)"
      ]
     },
     "execution_count": 11,
     "metadata": {},
     "output_type": "execute_result"
    }
   ],
   "source": [
    "eye_matrix=vitreous * pass_IOL * anterior_chamber * cornea_posterior * cornea_inside * cornea_anterior * glass_to_cornea\n",
    "eye_matrix[0,0]"
   ]
  },
  {
   "cell_type": "code",
   "execution_count": 12,
   "metadata": {},
   "outputs": [
    {
     "data": {
      "text/latex": [
       "$\\displaystyle - \\frac{IOL \\left(AL - ELP\\right)}{n_{h}} - \\frac{K \\left(AL + ELP \\left(- \\frac{IOL \\left(AL - ELP\\right)}{n_{h}} + 1\\right) - ELP\\right)}{n_{k}} + 1$"
      ],
      "text/plain": [
       "-IOL*(AL - ELP)/n_h - K*(AL + ELP*(-IOL*(AL - ELP)/n_h + 1) - ELP)/n_k + 1"
      ]
     },
     "execution_count": 12,
     "metadata": {},
     "output_type": "execute_result"
    }
   ],
   "source": [
    "eye_matrix_by_K=(vitreous * pass_IOL * anterior_chamber * cornea_by_K * glass_to_cornea).subs(T_c,0)\n",
    "eye_matrix_by_K[0,0]"
   ]
  },
  {
   "cell_type": "code",
   "execution_count": 13,
   "metadata": {},
   "outputs": [],
   "source": [
    "IOL_power_by_K= solve(eye_matrix_by_K[0,0], IOL)[0]\n",
    "IOL_power_by_R= solve(eye_matrix[0,0], IOL)[0]"
   ]
  },
  {
   "cell_type": "code",
   "execution_count": 14,
   "metadata": {},
   "outputs": [
    {
     "data": {
      "text/latex": [
       "$\\displaystyle 24.9315007263381$"
      ],
      "text/plain": [
       "24.9315007263381"
      ]
     },
     "execution_count": 14,
     "metadata": {},
     "output_type": "execute_result"
    }
   ],
   "source": [
    "IOL_power_by_K.subs({n_k:1.3375, AL:23/1000, K:40, ELP:4/1000, n_h:1.336})"
   ]
  },
  {
   "cell_type": "code",
   "execution_count": null,
   "metadata": {},
   "outputs": [],
   "source": []
  }
 ],
 "metadata": {
  "kernelspec": {
   "display_name": "Python 3",
   "language": "python",
   "name": "python3"
  },
  "language_info": {
   "codemirror_mode": {
    "name": "ipython",
    "version": 3
   },
   "file_extension": ".py",
   "mimetype": "text/x-python",
   "name": "python",
   "nbconvert_exporter": "python",
   "pygments_lexer": "ipython3",
   "version": "3.6.9"
  }
 },
 "nbformat": 4,
 "nbformat_minor": 4
}
